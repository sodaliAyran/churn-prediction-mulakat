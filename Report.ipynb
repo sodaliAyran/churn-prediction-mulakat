{
 "cells": [
  {
   "cell_type": "markdown",
   "metadata": {},
   "source": [
    "# APPS Data Science Interview"
   ]
  },
  {
   "cell_type": "code",
   "execution_count": 95,
   "metadata": {},
   "outputs": [],
   "source": [
    "import pandas as pd\n",
    "import numpy as np\n",
    "import seaborn as sns\n",
    "import matplotlib.pyplot as plt"
   ]
  },
  {
   "cell_type": "markdown",
   "metadata": {},
   "source": [
    "## 1. Exploratory Data Analysis"
   ]
  },
  {
   "cell_type": "markdown",
   "metadata": {},
   "source": [
    "### Reading the data"
   ]
  },
  {
   "cell_type": "code",
   "execution_count": 29,
   "metadata": {},
   "outputs": [],
   "source": [
    "events = pd.read_csv(\"data/interview_events.csv\", parse_dates=[\"client_ts\"])\n",
    "revenue = pd.read_csv(\"data/interview_revenue.csv\", parse_dates=[\"revenue_day\"])"
   ]
  },
  {
   "cell_type": "code",
   "execution_count": 30,
   "metadata": {},
   "outputs": [
    {
     "data": {
      "text/html": [
       "<div>\n",
       "<style scoped>\n",
       "    .dataframe tbody tr th:only-of-type {\n",
       "        vertical-align: middle;\n",
       "    }\n",
       "\n",
       "    .dataframe tbody tr th {\n",
       "        vertical-align: top;\n",
       "    }\n",
       "\n",
       "    .dataframe thead th {\n",
       "        text-align: right;\n",
       "    }\n",
       "</style>\n",
       "<table border=\"1\" class=\"dataframe\">\n",
       "  <thead>\n",
       "    <tr style=\"text-align: right;\">\n",
       "      <th></th>\n",
       "      <th>user_id</th>\n",
       "      <th>client_ts</th>\n",
       "      <th>event_id</th>\n",
       "      <th>value</th>\n",
       "      <th>version</th>\n",
       "      <th>country_code</th>\n",
       "      <th>os_type</th>\n",
       "    </tr>\n",
       "  </thead>\n",
       "  <tbody>\n",
       "    <tr>\n",
       "      <td>0</td>\n",
       "      <td>-9215534650345115924</td>\n",
       "      <td>2019-12-01 17:36:45+00:00</td>\n",
       "      <td>Start:turkish:L0</td>\n",
       "      <td>NaN</td>\n",
       "      <td>1.20.00</td>\n",
       "      <td>TR</td>\n",
       "      <td>android</td>\n",
       "    </tr>\n",
       "    <tr>\n",
       "      <td>1</td>\n",
       "      <td>-9215534650345115924</td>\n",
       "      <td>2019-12-01 17:36:55+00:00</td>\n",
       "      <td>Complete:turkish:L0</td>\n",
       "      <td>NaN</td>\n",
       "      <td>1.20.00</td>\n",
       "      <td>TR</td>\n",
       "      <td>android</td>\n",
       "    </tr>\n",
       "    <tr>\n",
       "      <td>2</td>\n",
       "      <td>-9215534650345115924</td>\n",
       "      <td>2019-12-01 17:36:56+00:00</td>\n",
       "      <td>app:gameScore</td>\n",
       "      <td>100.0</td>\n",
       "      <td>1.20.00</td>\n",
       "      <td>TR</td>\n",
       "      <td>android</td>\n",
       "    </tr>\n",
       "    <tr>\n",
       "      <td>3</td>\n",
       "      <td>-9215534650345115924</td>\n",
       "      <td>2019-12-01 17:37:04+00:00</td>\n",
       "      <td>Start:turkish:L1</td>\n",
       "      <td>NaN</td>\n",
       "      <td>1.20.00</td>\n",
       "      <td>TR</td>\n",
       "      <td>android</td>\n",
       "    </tr>\n",
       "    <tr>\n",
       "      <td>4</td>\n",
       "      <td>-9215534650345115924</td>\n",
       "      <td>2019-12-01 17:37:06+00:00</td>\n",
       "      <td>wrong:turkish:L1</td>\n",
       "      <td>NaN</td>\n",
       "      <td>1.20.00</td>\n",
       "      <td>TR</td>\n",
       "      <td>android</td>\n",
       "    </tr>\n",
       "  </tbody>\n",
       "</table>\n",
       "</div>"
      ],
      "text/plain": [
       "               user_id                 client_ts             event_id  value  \\\n",
       "0 -9215534650345115924 2019-12-01 17:36:45+00:00     Start:turkish:L0    NaN   \n",
       "1 -9215534650345115924 2019-12-01 17:36:55+00:00  Complete:turkish:L0    NaN   \n",
       "2 -9215534650345115924 2019-12-01 17:36:56+00:00        app:gameScore  100.0   \n",
       "3 -9215534650345115924 2019-12-01 17:37:04+00:00     Start:turkish:L1    NaN   \n",
       "4 -9215534650345115924 2019-12-01 17:37:06+00:00     wrong:turkish:L1    NaN   \n",
       "\n",
       "   version country_code  os_type  \n",
       "0  1.20.00           TR  android  \n",
       "1  1.20.00           TR  android  \n",
       "2  1.20.00           TR  android  \n",
       "3  1.20.00           TR  android  \n",
       "4  1.20.00           TR  android  "
      ]
     },
     "execution_count": 30,
     "metadata": {},
     "output_type": "execute_result"
    }
   ],
   "source": [
    "events.head()"
   ]
  },
  {
   "cell_type": "code",
   "execution_count": 31,
   "metadata": {},
   "outputs": [
    {
     "data": {
      "text/html": [
       "<div>\n",
       "<style scoped>\n",
       "    .dataframe tbody tr th:only-of-type {\n",
       "        vertical-align: middle;\n",
       "    }\n",
       "\n",
       "    .dataframe tbody tr th {\n",
       "        vertical-align: top;\n",
       "    }\n",
       "\n",
       "    .dataframe thead th {\n",
       "        text-align: right;\n",
       "    }\n",
       "</style>\n",
       "<table border=\"1\" class=\"dataframe\">\n",
       "  <thead>\n",
       "    <tr style=\"text-align: right;\">\n",
       "      <th></th>\n",
       "      <th>user_id</th>\n",
       "      <th>revenue_day</th>\n",
       "      <th>revenue</th>\n",
       "    </tr>\n",
       "  </thead>\n",
       "  <tbody>\n",
       "    <tr>\n",
       "      <td>0</td>\n",
       "      <td>7799779337307357843</td>\n",
       "      <td>2019-12-01</td>\n",
       "      <td>0.015406</td>\n",
       "    </tr>\n",
       "    <tr>\n",
       "      <td>1</td>\n",
       "      <td>2903532465681507879</td>\n",
       "      <td>2019-12-01</td>\n",
       "      <td>0.019093</td>\n",
       "    </tr>\n",
       "    <tr>\n",
       "      <td>2</td>\n",
       "      <td>7271844357181366660</td>\n",
       "      <td>2019-12-01</td>\n",
       "      <td>0.011785</td>\n",
       "    </tr>\n",
       "    <tr>\n",
       "      <td>3</td>\n",
       "      <td>-6989185766557698704</td>\n",
       "      <td>2019-12-01</td>\n",
       "      <td>0.013538</td>\n",
       "    </tr>\n",
       "    <tr>\n",
       "      <td>4</td>\n",
       "      <td>-1388044436100964633</td>\n",
       "      <td>2019-12-01</td>\n",
       "      <td>0.002288</td>\n",
       "    </tr>\n",
       "  </tbody>\n",
       "</table>\n",
       "</div>"
      ],
      "text/plain": [
       "               user_id revenue_day   revenue\n",
       "0  7799779337307357843  2019-12-01  0.015406\n",
       "1  2903532465681507879  2019-12-01  0.019093\n",
       "2  7271844357181366660  2019-12-01  0.011785\n",
       "3 -6989185766557698704  2019-12-01  0.013538\n",
       "4 -1388044436100964633  2019-12-01  0.002288"
      ]
     },
     "execution_count": 31,
     "metadata": {},
     "output_type": "execute_result"
    }
   ],
   "source": [
    "revenue.head()"
   ]
  },
  {
   "cell_type": "markdown",
   "metadata": {},
   "source": [
    "### Check size of data cuz why not?"
   ]
  },
  {
   "cell_type": "code",
   "execution_count": 7,
   "metadata": {},
   "outputs": [
    {
     "name": "stdout",
     "output_type": "stream",
     "text": [
      "11301\n",
      "1748861\n"
     ]
    }
   ],
   "source": [
    "print(len(revenue))\n",
    "print(len(events))"
   ]
  },
  {
   "cell_type": "markdown",
   "metadata": {},
   "source": [
    "### First things first need to seperate date values"
   ]
  },
  {
   "cell_type": "code",
   "execution_count": 36,
   "metadata": {},
   "outputs": [],
   "source": [
    "events[\"year\"] = events.client_ts.dt.year\n",
    "events[\"month\"] = events.client_ts.dt.month\n",
    "events[\"day\"] = events.client_ts.dt.day\n",
    "events[\"hour\"] = events.client_ts.dt.hour\n",
    "events[\"minute\"] = events.client_ts.dt.minute\n",
    "events[\"seconds\"] = events.client_ts.dt.second\n",
    "\n",
    "revenue[\"year\"] = revenue.revenue_day.dt.year\n",
    "revenue[\"month\"] = revenue.revenue_day.dt.month\n",
    "revenue[\"day\"] = revenue.revenue_day.dt.day"
   ]
  },
  {
   "cell_type": "code",
   "execution_count": 37,
   "metadata": {},
   "outputs": [
    {
     "data": {
      "text/html": [
       "<div>\n",
       "<style scoped>\n",
       "    .dataframe tbody tr th:only-of-type {\n",
       "        vertical-align: middle;\n",
       "    }\n",
       "\n",
       "    .dataframe tbody tr th {\n",
       "        vertical-align: top;\n",
       "    }\n",
       "\n",
       "    .dataframe thead th {\n",
       "        text-align: right;\n",
       "    }\n",
       "</style>\n",
       "<table border=\"1\" class=\"dataframe\">\n",
       "  <thead>\n",
       "    <tr style=\"text-align: right;\">\n",
       "      <th></th>\n",
       "      <th>user_id</th>\n",
       "      <th>client_ts</th>\n",
       "      <th>event_id</th>\n",
       "      <th>value</th>\n",
       "      <th>version</th>\n",
       "      <th>country_code</th>\n",
       "      <th>os_type</th>\n",
       "      <th>year</th>\n",
       "      <th>month</th>\n",
       "      <th>day</th>\n",
       "      <th>hour</th>\n",
       "      <th>minute</th>\n",
       "      <th>seconds</th>\n",
       "    </tr>\n",
       "  </thead>\n",
       "  <tbody>\n",
       "    <tr>\n",
       "      <td>0</td>\n",
       "      <td>-9215534650345115924</td>\n",
       "      <td>2019-12-01 17:36:45+00:00</td>\n",
       "      <td>Start:turkish:L0</td>\n",
       "      <td>NaN</td>\n",
       "      <td>1.20.00</td>\n",
       "      <td>TR</td>\n",
       "      <td>android</td>\n",
       "      <td>2019</td>\n",
       "      <td>12</td>\n",
       "      <td>1</td>\n",
       "      <td>17</td>\n",
       "      <td>36</td>\n",
       "      <td>45</td>\n",
       "    </tr>\n",
       "    <tr>\n",
       "      <td>1</td>\n",
       "      <td>-9215534650345115924</td>\n",
       "      <td>2019-12-01 17:36:55+00:00</td>\n",
       "      <td>Complete:turkish:L0</td>\n",
       "      <td>NaN</td>\n",
       "      <td>1.20.00</td>\n",
       "      <td>TR</td>\n",
       "      <td>android</td>\n",
       "      <td>2019</td>\n",
       "      <td>12</td>\n",
       "      <td>1</td>\n",
       "      <td>17</td>\n",
       "      <td>36</td>\n",
       "      <td>55</td>\n",
       "    </tr>\n",
       "    <tr>\n",
       "      <td>2</td>\n",
       "      <td>-9215534650345115924</td>\n",
       "      <td>2019-12-01 17:36:56+00:00</td>\n",
       "      <td>app:gameScore</td>\n",
       "      <td>100.0</td>\n",
       "      <td>1.20.00</td>\n",
       "      <td>TR</td>\n",
       "      <td>android</td>\n",
       "      <td>2019</td>\n",
       "      <td>12</td>\n",
       "      <td>1</td>\n",
       "      <td>17</td>\n",
       "      <td>36</td>\n",
       "      <td>56</td>\n",
       "    </tr>\n",
       "    <tr>\n",
       "      <td>3</td>\n",
       "      <td>-9215534650345115924</td>\n",
       "      <td>2019-12-01 17:37:04+00:00</td>\n",
       "      <td>Start:turkish:L1</td>\n",
       "      <td>NaN</td>\n",
       "      <td>1.20.00</td>\n",
       "      <td>TR</td>\n",
       "      <td>android</td>\n",
       "      <td>2019</td>\n",
       "      <td>12</td>\n",
       "      <td>1</td>\n",
       "      <td>17</td>\n",
       "      <td>37</td>\n",
       "      <td>4</td>\n",
       "    </tr>\n",
       "    <tr>\n",
       "      <td>4</td>\n",
       "      <td>-9215534650345115924</td>\n",
       "      <td>2019-12-01 17:37:06+00:00</td>\n",
       "      <td>wrong:turkish:L1</td>\n",
       "      <td>NaN</td>\n",
       "      <td>1.20.00</td>\n",
       "      <td>TR</td>\n",
       "      <td>android</td>\n",
       "      <td>2019</td>\n",
       "      <td>12</td>\n",
       "      <td>1</td>\n",
       "      <td>17</td>\n",
       "      <td>37</td>\n",
       "      <td>6</td>\n",
       "    </tr>\n",
       "  </tbody>\n",
       "</table>\n",
       "</div>"
      ],
      "text/plain": [
       "               user_id                 client_ts             event_id  value  \\\n",
       "0 -9215534650345115924 2019-12-01 17:36:45+00:00     Start:turkish:L0    NaN   \n",
       "1 -9215534650345115924 2019-12-01 17:36:55+00:00  Complete:turkish:L0    NaN   \n",
       "2 -9215534650345115924 2019-12-01 17:36:56+00:00        app:gameScore  100.0   \n",
       "3 -9215534650345115924 2019-12-01 17:37:04+00:00     Start:turkish:L1    NaN   \n",
       "4 -9215534650345115924 2019-12-01 17:37:06+00:00     wrong:turkish:L1    NaN   \n",
       "\n",
       "   version country_code  os_type  year  month  day  hour  minute  seconds  \n",
       "0  1.20.00           TR  android  2019     12    1    17      36       45  \n",
       "1  1.20.00           TR  android  2019     12    1    17      36       55  \n",
       "2  1.20.00           TR  android  2019     12    1    17      36       56  \n",
       "3  1.20.00           TR  android  2019     12    1    17      37        4  \n",
       "4  1.20.00           TR  android  2019     12    1    17      37        6  "
      ]
     },
     "execution_count": 37,
     "metadata": {},
     "output_type": "execute_result"
    }
   ],
   "source": [
    "events.head()"
   ]
  },
  {
   "cell_type": "code",
   "execution_count": 38,
   "metadata": {},
   "outputs": [
    {
     "data": {
      "text/html": [
       "<div>\n",
       "<style scoped>\n",
       "    .dataframe tbody tr th:only-of-type {\n",
       "        vertical-align: middle;\n",
       "    }\n",
       "\n",
       "    .dataframe tbody tr th {\n",
       "        vertical-align: top;\n",
       "    }\n",
       "\n",
       "    .dataframe thead th {\n",
       "        text-align: right;\n",
       "    }\n",
       "</style>\n",
       "<table border=\"1\" class=\"dataframe\">\n",
       "  <thead>\n",
       "    <tr style=\"text-align: right;\">\n",
       "      <th></th>\n",
       "      <th>user_id</th>\n",
       "      <th>revenue_day</th>\n",
       "      <th>revenue</th>\n",
       "      <th>year</th>\n",
       "      <th>month</th>\n",
       "      <th>day</th>\n",
       "    </tr>\n",
       "  </thead>\n",
       "  <tbody>\n",
       "    <tr>\n",
       "      <td>0</td>\n",
       "      <td>7799779337307357843</td>\n",
       "      <td>2019-12-01</td>\n",
       "      <td>0.015406</td>\n",
       "      <td>2019</td>\n",
       "      <td>12</td>\n",
       "      <td>1</td>\n",
       "    </tr>\n",
       "    <tr>\n",
       "      <td>1</td>\n",
       "      <td>2903532465681507879</td>\n",
       "      <td>2019-12-01</td>\n",
       "      <td>0.019093</td>\n",
       "      <td>2019</td>\n",
       "      <td>12</td>\n",
       "      <td>1</td>\n",
       "    </tr>\n",
       "    <tr>\n",
       "      <td>2</td>\n",
       "      <td>7271844357181366660</td>\n",
       "      <td>2019-12-01</td>\n",
       "      <td>0.011785</td>\n",
       "      <td>2019</td>\n",
       "      <td>12</td>\n",
       "      <td>1</td>\n",
       "    </tr>\n",
       "    <tr>\n",
       "      <td>3</td>\n",
       "      <td>-6989185766557698704</td>\n",
       "      <td>2019-12-01</td>\n",
       "      <td>0.013538</td>\n",
       "      <td>2019</td>\n",
       "      <td>12</td>\n",
       "      <td>1</td>\n",
       "    </tr>\n",
       "    <tr>\n",
       "      <td>4</td>\n",
       "      <td>-1388044436100964633</td>\n",
       "      <td>2019-12-01</td>\n",
       "      <td>0.002288</td>\n",
       "      <td>2019</td>\n",
       "      <td>12</td>\n",
       "      <td>1</td>\n",
       "    </tr>\n",
       "  </tbody>\n",
       "</table>\n",
       "</div>"
      ],
      "text/plain": [
       "               user_id revenue_day   revenue  year  month  day\n",
       "0  7799779337307357843  2019-12-01  0.015406  2019     12    1\n",
       "1  2903532465681507879  2019-12-01  0.019093  2019     12    1\n",
       "2  7271844357181366660  2019-12-01  0.011785  2019     12    1\n",
       "3 -6989185766557698704  2019-12-01  0.013538  2019     12    1\n",
       "4 -1388044436100964633  2019-12-01  0.002288  2019     12    1"
      ]
     },
     "execution_count": 38,
     "metadata": {},
     "output_type": "execute_result"
    }
   ],
   "source": [
    "revenue.head()"
   ]
  },
  {
   "cell_type": "markdown",
   "metadata": {},
   "source": [
    "### Let's check if we need month and year values my guess is we don't (normally you don't do this)"
   ]
  },
  {
   "cell_type": "code",
   "execution_count": 40,
   "metadata": {},
   "outputs": [
    {
     "name": "stdout",
     "output_type": "stream",
     "text": [
      "[2019 2015]\n",
      "[12 11  1]\n",
      "[2019 2020]\n",
      "[12  1]\n"
     ]
    }
   ],
   "source": [
    "print(events.year.unique())\n",
    "print(events.month.unique())\n",
    "print(revenue.year.unique())\n",
    "print(revenue.month.unique())"
   ]
  },
  {
   "cell_type": "markdown",
   "metadata": {},
   "source": [
    "### To my surprise there are actually more than one year and one month of data in this set\n",
    "### So I'm gonna check if data from 2015 is sizeable enough to consider"
   ]
  },
  {
   "cell_type": "code",
   "execution_count": 47,
   "metadata": {},
   "outputs": [
    {
     "data": {
      "text/html": [
       "<div>\n",
       "<style scoped>\n",
       "    .dataframe tbody tr th:only-of-type {\n",
       "        vertical-align: middle;\n",
       "    }\n",
       "\n",
       "    .dataframe tbody tr th {\n",
       "        vertical-align: top;\n",
       "    }\n",
       "\n",
       "    .dataframe thead th {\n",
       "        text-align: right;\n",
       "    }\n",
       "</style>\n",
       "<table border=\"1\" class=\"dataframe\">\n",
       "  <thead>\n",
       "    <tr style=\"text-align: right;\">\n",
       "      <th></th>\n",
       "      <th>index</th>\n",
       "      <th>user_id</th>\n",
       "      <th>client_ts</th>\n",
       "      <th>event_id</th>\n",
       "      <th>value</th>\n",
       "      <th>version</th>\n",
       "      <th>country_code</th>\n",
       "      <th>os_type</th>\n",
       "      <th>year</th>\n",
       "      <th>month</th>\n",
       "      <th>day</th>\n",
       "      <th>hour</th>\n",
       "      <th>minute</th>\n",
       "      <th>seconds</th>\n",
       "    </tr>\n",
       "    <tr>\n",
       "      <th>year</th>\n",
       "      <th></th>\n",
       "      <th></th>\n",
       "      <th></th>\n",
       "      <th></th>\n",
       "      <th></th>\n",
       "      <th></th>\n",
       "      <th></th>\n",
       "      <th></th>\n",
       "      <th></th>\n",
       "      <th></th>\n",
       "      <th></th>\n",
       "      <th></th>\n",
       "      <th></th>\n",
       "      <th></th>\n",
       "    </tr>\n",
       "  </thead>\n",
       "  <tbody>\n",
       "    <tr>\n",
       "      <td>2015</td>\n",
       "      <td>132</td>\n",
       "      <td>1</td>\n",
       "      <td>121</td>\n",
       "      <td>36</td>\n",
       "      <td>11</td>\n",
       "      <td>1</td>\n",
       "      <td>1</td>\n",
       "      <td>1</td>\n",
       "      <td>1</td>\n",
       "      <td>1</td>\n",
       "      <td>1</td>\n",
       "      <td>1</td>\n",
       "      <td>18</td>\n",
       "      <td>54</td>\n",
       "    </tr>\n",
       "    <tr>\n",
       "      <td>2019</td>\n",
       "      <td>1748729</td>\n",
       "      <td>1768</td>\n",
       "      <td>792898</td>\n",
       "      <td>2085</td>\n",
       "      <td>148599</td>\n",
       "      <td>5</td>\n",
       "      <td>12</td>\n",
       "      <td>1</td>\n",
       "      <td>1</td>\n",
       "      <td>2</td>\n",
       "      <td>23</td>\n",
       "      <td>24</td>\n",
       "      <td>60</td>\n",
       "      <td>60</td>\n",
       "    </tr>\n",
       "  </tbody>\n",
       "</table>\n",
       "</div>"
      ],
      "text/plain": [
       "        index  user_id  client_ts  event_id   value  version  country_code  \\\n",
       "year                                                                         \n",
       "2015      132        1        121        36      11        1             1   \n",
       "2019  1748729     1768     792898      2085  148599        5            12   \n",
       "\n",
       "      os_type  year  month  day  hour  minute  seconds  \n",
       "year                                                    \n",
       "2015        1     1      1    1     1      18       54  \n",
       "2019        1     1      2   23    24      60       60  "
      ]
     },
     "execution_count": 47,
     "metadata": {},
     "output_type": "execute_result"
    }
   ],
   "source": [
    "events.reset_index().groupby(\"year\").nunique()"
   ]
  },
  {
   "cell_type": "markdown",
   "metadata": {},
   "source": [
    "### Data from 2015 has too small of a sample size so I'm just gonna drop it"
   ]
  },
  {
   "cell_type": "code",
   "execution_count": 49,
   "metadata": {},
   "outputs": [
    {
     "name": "stdout",
     "output_type": "stream",
     "text": [
      "1748861\n"
     ]
    },
    {
     "data": {
      "text/plain": [
       "1748729"
      ]
     },
     "execution_count": 49,
     "metadata": {},
     "output_type": "execute_result"
    }
   ],
   "source": [
    "print(len(events))\n",
    "events = events[events.year != 2015]\n",
    "len(events)"
   ]
  },
  {
   "cell_type": "markdown",
   "metadata": {},
   "source": [
    "### Quick graph to show I can use matplotlib/seaborn but it shows no interesting information cuz I got no imagination"
   ]
  },
  {
   "cell_type": "code",
   "execution_count": 90,
   "metadata": {},
   "outputs": [],
   "source": [
    "graph_data = events.reset_index().groupby(\"version\").nunique()"
   ]
  },
  {
   "cell_type": "code",
   "execution_count": 91,
   "metadata": {},
   "outputs": [],
   "source": [
    "graph_data = pd.DataFrame(graph_data.user_id)\n",
    "graph_data.reset_index(inplace=True)"
   ]
  },
  {
   "cell_type": "code",
   "execution_count": 96,
   "metadata": {},
   "outputs": [
    {
     "data": {
      "image/png": "[encoded data removed]",
      "text/plain": [
       "<Figure size 432x288 with 1 Axes>"
      ]
     },
     "metadata": {},
     "output_type": "display_data"
    }
   ],
   "source": [
    "sns.set(style=\"whitegrid\")\n",
    "ax = sns.barplot(x=\"version\", y=\"user_id\", data=graph_data)\n",
    "\n",
    "ax.set(xlabel=\"version\", ylabel=\"unique user count\", title=\"Useless Graph\")\n",
    "\n",
    "plt.show()"
   ]
  },
  {
   "cell_type": "markdown",
   "metadata": {},
   "source": [
    "### To be fair it shows version 1.21 didn't gain many new users when it launched"
   ]
  },
  {
   "cell_type": "markdown",
   "metadata": {},
   "source": [
    "### Need to get sign up dates of users for retention"
   ]
  },
  {
   "cell_type": "code",
   "execution_count": 119,
   "metadata": {},
   "outputs": [],
   "source": [
    "signup_dates = pd.DataFrame(events.groupby(\"user_id\").client_ts.min())"
   ]
  },
  {
   "cell_type": "code",
   "execution_count": 123,
   "metadata": {},
   "outputs": [
    {
     "data": {
      "text/html": [
       "<div>\n",
       "<style scoped>\n",
       "    .dataframe tbody tr th:only-of-type {\n",
       "        vertical-align: middle;\n",
       "    }\n",
       "\n",
       "    .dataframe tbody tr th {\n",
       "        vertical-align: top;\n",
       "    }\n",
       "\n",
       "    .dataframe thead th {\n",
       "        text-align: right;\n",
       "    }\n",
       "</style>\n",
       "<table border=\"1\" class=\"dataframe\">\n",
       "  <thead>\n",
       "    <tr style=\"text-align: right;\">\n",
       "      <th></th>\n",
       "      <th>user_id</th>\n",
       "      <th>signup_date</th>\n",
       "    </tr>\n",
       "  </thead>\n",
       "  <tbody>\n",
       "    <tr>\n",
       "      <td>0</td>\n",
       "      <td>-9215534650345115924</td>\n",
       "      <td>2019-12-01 17:36:45+00:00</td>\n",
       "    </tr>\n",
       "    <tr>\n",
       "      <td>1</td>\n",
       "      <td>-9215240100939776087</td>\n",
       "      <td>2019-12-03 20:06:02+00:00</td>\n",
       "    </tr>\n",
       "    <tr>\n",
       "      <td>2</td>\n",
       "      <td>-9202484284851622629</td>\n",
       "      <td>2019-12-01 11:45:05+00:00</td>\n",
       "    </tr>\n",
       "    <tr>\n",
       "      <td>3</td>\n",
       "      <td>-9197151025395411316</td>\n",
       "      <td>2019-12-03 09:58:58+00:00</td>\n",
       "    </tr>\n",
       "    <tr>\n",
       "      <td>4</td>\n",
       "      <td>-9167946499694210868</td>\n",
       "      <td>2019-12-07 11:41:21+00:00</td>\n",
       "    </tr>\n",
       "  </tbody>\n",
       "</table>\n",
       "</div>"
      ],
      "text/plain": [
       "               user_id               signup_date\n",
       "0 -9215534650345115924 2019-12-01 17:36:45+00:00\n",
       "1 -9215240100939776087 2019-12-03 20:06:02+00:00\n",
       "2 -9202484284851622629 2019-12-01 11:45:05+00:00\n",
       "3 -9197151025395411316 2019-12-03 09:58:58+00:00\n",
       "4 -9167946499694210868 2019-12-07 11:41:21+00:00"
      ]
     },
     "execution_count": 123,
     "metadata": {},
     "output_type": "execute_result"
    }
   ],
   "source": [
    "signup_dates.reset_index(inplace=True)\n",
    "signup_dates.columns = [\"user_id\", \"signup_date\"]\n",
    "signup_dates.head()"
   ]
  },
  {
   "cell_type": "code",
   "execution_count": 135,
   "metadata": {},
   "outputs": [
    {
     "data": {
      "text/html": [
       "<div>\n",
       "<style scoped>\n",
       "    .dataframe tbody tr th:only-of-type {\n",
       "        vertical-align: middle;\n",
       "    }\n",
       "\n",
       "    .dataframe tbody tr th {\n",
       "        vertical-align: top;\n",
       "    }\n",
       "\n",
       "    .dataframe thead th {\n",
       "        text-align: right;\n",
       "    }\n",
       "</style>\n",
       "<table border=\"1\" class=\"dataframe\">\n",
       "  <thead>\n",
       "    <tr style=\"text-align: right;\">\n",
       "      <th></th>\n",
       "      <th>user_id</th>\n",
       "      <th>client_ts</th>\n",
       "      <th>event_id</th>\n",
       "      <th>value</th>\n",
       "      <th>version</th>\n",
       "      <th>country_code</th>\n",
       "      <th>os_type</th>\n",
       "      <th>year</th>\n",
       "      <th>month</th>\n",
       "      <th>day</th>\n",
       "      <th>hour</th>\n",
       "      <th>minute</th>\n",
       "      <th>seconds</th>\n",
       "      <th>signup_day</th>\n",
       "      <th>signup_date</th>\n",
       "    </tr>\n",
       "  </thead>\n",
       "  <tbody>\n",
       "    <tr>\n",
       "      <td>0</td>\n",
       "      <td>-9215534650345115924</td>\n",
       "      <td>2019-12-01 17:36:45+00:00</td>\n",
       "      <td>Start:turkish:L0</td>\n",
       "      <td>NaN</td>\n",
       "      <td>1.20.00</td>\n",
       "      <td>TR</td>\n",
       "      <td>android</td>\n",
       "      <td>2019</td>\n",
       "      <td>12</td>\n",
       "      <td>1</td>\n",
       "      <td>17</td>\n",
       "      <td>36</td>\n",
       "      <td>45</td>\n",
       "      <td>NaT</td>\n",
       "      <td>2019-12-01 17:36:45+00:00</td>\n",
       "    </tr>\n",
       "    <tr>\n",
       "      <td>1</td>\n",
       "      <td>-9215534650345115924</td>\n",
       "      <td>2019-12-01 17:36:55+00:00</td>\n",
       "      <td>Complete:turkish:L0</td>\n",
       "      <td>NaN</td>\n",
       "      <td>1.20.00</td>\n",
       "      <td>TR</td>\n",
       "      <td>android</td>\n",
       "      <td>2019</td>\n",
       "      <td>12</td>\n",
       "      <td>1</td>\n",
       "      <td>17</td>\n",
       "      <td>36</td>\n",
       "      <td>55</td>\n",
       "      <td>NaT</td>\n",
       "      <td>2019-12-01 17:36:45+00:00</td>\n",
       "    </tr>\n",
       "    <tr>\n",
       "      <td>2</td>\n",
       "      <td>-9215534650345115924</td>\n",
       "      <td>2019-12-01 17:36:56+00:00</td>\n",
       "      <td>app:gameScore</td>\n",
       "      <td>100.0</td>\n",
       "      <td>1.20.00</td>\n",
       "      <td>TR</td>\n",
       "      <td>android</td>\n",
       "      <td>2019</td>\n",
       "      <td>12</td>\n",
       "      <td>1</td>\n",
       "      <td>17</td>\n",
       "      <td>36</td>\n",
       "      <td>56</td>\n",
       "      <td>NaT</td>\n",
       "      <td>2019-12-01 17:36:45+00:00</td>\n",
       "    </tr>\n",
       "    <tr>\n",
       "      <td>3</td>\n",
       "      <td>-9215534650345115924</td>\n",
       "      <td>2019-12-01 17:37:04+00:00</td>\n",
       "      <td>Start:turkish:L1</td>\n",
       "      <td>NaN</td>\n",
       "      <td>1.20.00</td>\n",
       "      <td>TR</td>\n",
       "      <td>android</td>\n",
       "      <td>2019</td>\n",
       "      <td>12</td>\n",
       "      <td>1</td>\n",
       "      <td>17</td>\n",
       "      <td>37</td>\n",
       "      <td>4</td>\n",
       "      <td>NaT</td>\n",
       "      <td>2019-12-01 17:36:45+00:00</td>\n",
       "    </tr>\n",
       "    <tr>\n",
       "      <td>4</td>\n",
       "      <td>-9215534650345115924</td>\n",
       "      <td>2019-12-01 17:37:06+00:00</td>\n",
       "      <td>wrong:turkish:L1</td>\n",
       "      <td>NaN</td>\n",
       "      <td>1.20.00</td>\n",
       "      <td>TR</td>\n",
       "      <td>android</td>\n",
       "      <td>2019</td>\n",
       "      <td>12</td>\n",
       "      <td>1</td>\n",
       "      <td>17</td>\n",
       "      <td>37</td>\n",
       "      <td>6</td>\n",
       "      <td>NaT</td>\n",
       "      <td>2019-12-01 17:36:45+00:00</td>\n",
       "    </tr>\n",
       "  </tbody>\n",
       "</table>\n",
       "</div>"
      ],
      "text/plain": [
       "               user_id                 client_ts             event_id  value  \\\n",
       "0 -9215534650345115924 2019-12-01 17:36:45+00:00     Start:turkish:L0    NaN   \n",
       "1 -9215534650345115924 2019-12-01 17:36:55+00:00  Complete:turkish:L0    NaN   \n",
       "2 -9215534650345115924 2019-12-01 17:36:56+00:00        app:gameScore  100.0   \n",
       "3 -9215534650345115924 2019-12-01 17:37:04+00:00     Start:turkish:L1    NaN   \n",
       "4 -9215534650345115924 2019-12-01 17:37:06+00:00     wrong:turkish:L1    NaN   \n",
       "\n",
       "   version country_code  os_type  year  month  day  hour  minute  seconds  \\\n",
       "0  1.20.00           TR  android  2019     12    1    17      36       45   \n",
       "1  1.20.00           TR  android  2019     12    1    17      36       55   \n",
       "2  1.20.00           TR  android  2019     12    1    17      36       56   \n",
       "3  1.20.00           TR  android  2019     12    1    17      37        4   \n",
       "4  1.20.00           TR  android  2019     12    1    17      37        6   \n",
       "\n",
       "  signup_day               signup_date  \n",
       "0        NaT 2019-12-01 17:36:45+00:00  \n",
       "1        NaT 2019-12-01 17:36:45+00:00  \n",
       "2        NaT 2019-12-01 17:36:45+00:00  \n",
       "3        NaT 2019-12-01 17:36:45+00:00  \n",
       "4        NaT 2019-12-01 17:36:45+00:00  "
      ]
     },
     "execution_count": 135,
     "metadata": {},
     "output_type": "execute_result"
    }
   ],
   "source": [
    "events = events.join(signup_dates.set_index(\"user_id\"), on=\"user_id\")\n",
    "events.head()"
   ]
  },
  {
   "cell_type": "code",
   "execution_count": null,
   "metadata": {},
   "outputs": [],
   "source": []
  }
 ],
 "metadata": {
  "kernelspec": {
   "display_name": "Python 3",
   "language": "python",
   "name": "python3"
  },
  "language_info": {
   "codemirror_mode": {
    "name": "ipython",
    "version": 3
   },
   "file_extension": ".py",
   "mimetype": "text/x-python",
   "name": "python",
   "nbconvert_exporter": "python",
   "pygments_lexer": "ipython3",
   "version": "3.7.4"
  }
 },
 "nbformat": 4,
 "nbformat_minor": 2
}
